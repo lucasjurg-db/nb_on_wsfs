{
 "cells": [
  {
   "cell_type": "markdown",
   "metadata": {
    "application/vnd.databricks.v1+cell": {
     "cellMetadata": {},
     "inputWidgets": {},
     "nuid": "e47cb446-d779-4804-80ca-1e56c110be4d",
     "showTitle": false,
     "tableResultSettingsMap": {},
     "title": ""
    }
   },
   "source": [
    "# Introduction\n",
    "\n",
    "Notebook support on WSFS means that the workspace filesystem can read, write, rename, and delete notebooks directly from WSFS. For a file to be considered a notebook, it must fit one of the following conditions:\n",
    "\n",
    "1. Has a \".ipynb\" extension\n",
    "2. Has a extension in (\".py\", \".r\", \".scala\", \".sql\") AND has (\"Databricks notebook source\") in the first 200 bytes of the file\n",
    "\n",
    "If a write or rename changes affects these conditions, then the type should change accordingly.\n",
    "\n",
    "Additionally, previous work on notebook read support means that no two notebooks should share the same base name (e.g. nb.py and nb.r can't both exist)\n",
    "\n",
    "This `main_nb` notebook contains some basic commands for interacting with files/notebooks through WSFS."
   ]
  },
  {
   "cell_type": "markdown",
   "metadata": {
    "application/vnd.databricks.v1+cell": {
     "cellMetadata": {},
     "inputWidgets": {},
     "nuid": "a61dd017-a5d1-4db8-b76d-b203f57aaea2",
     "showTitle": false,
     "tableResultSettingsMap": {},
     "title": ""
    }
   },
   "source": [
    "### Writes"
   ]
  },
  {
   "cell_type": "code",
   "execution_count": 0,
   "metadata": {
    "application/vnd.databricks.v1+cell": {
     "cellMetadata": {
      "byteLimit": 2048000,
      "rowLimit": 10000
     },
     "inputWidgets": {},
     "nuid": "03c12ca1-be91-4d80-95a3-6d73a8b6e08e",
     "showTitle": true,
     "tableResultSettingsMap": {},
     "title": "Creates a python source notebook"
    }
   },
   "outputs": [],
   "source": [
    "# Both \".py\" extension and the presense of a notebook header make this object a notebook\n",
    "with open(\"test.py\", \"w\") as f:\n",
    "  f.write(\"# Databricks notebook source\")"
   ]
  },
  {
   "cell_type": "code",
   "execution_count": 0,
   "metadata": {
    "application/vnd.databricks.v1+cell": {
     "cellMetadata": {
      "byteLimit": 2048000,
      "rowLimit": 10000
     },
     "inputWidgets": {},
     "nuid": "d9241cff-540c-42c7-8287-5f70702a3b4e",
     "showTitle": true,
     "tableResultSettingsMap": {},
     "title": "Creates a regular file"
    }
   },
   "outputs": [],
   "source": [
    "# Without the notebook header, the \".py\" extension isn't sufficient for it to be a notebook\n",
    "with open(\"test.py\", \"w\") as f:\n",
    "  f.write(\"# Some other contents\")"
   ]
  },
  {
   "cell_type": "code",
   "execution_count": 0,
   "metadata": {
    "application/vnd.databricks.v1+cell": {
     "cellMetadata": {
      "byteLimit": 2048000,
      "rowLimit": 10000
     },
     "inputWidgets": {},
     "nuid": "0872e286-0d20-407d-84de-6ebe7e313453",
     "showTitle": true,
     "tableResultSettingsMap": {},
     "title": "Creates an ipynb notebook"
    }
   },
   "outputs": [],
   "source": [
    "# Creates an ipynb notebook - however opening it in the UI should inform the user that its contents are malformed\n",
    "with open(\"test.ipynb\", \"w\") as f:\n",
    "  f.write(\"stuff\")"
   ]
  },
  {
   "cell_type": "markdown",
   "metadata": {
    "application/vnd.databricks.v1+cell": {
     "cellMetadata": {},
     "inputWidgets": {},
     "nuid": "69d284e4-172f-47e7-87e1-8d15e82fbb0a",
     "showTitle": false,
     "tableResultSettingsMap": {},
     "title": ""
    }
   },
   "source": [
    "### Reads"
   ]
  },
  {
   "cell_type": "code",
   "execution_count": 0,
   "metadata": {
    "application/vnd.databricks.v1+cell": {
     "cellMetadata": {
      "byteLimit": 2048000,
      "rowLimit": 10000
     },
     "inputWidgets": {},
     "nuid": "5677cc89-db06-4931-a82b-f5b312df5988",
     "showTitle": true,
     "tableResultSettingsMap": {},
     "title": "Reads notebook contents"
    }
   },
   "outputs": [],
   "source": [
    "with open(\"test.py\", \"r\") as f:\n",
    "  for line in f:\n",
    "    print(line)"
   ]
  },
  {
   "cell_type": "markdown",
   "metadata": {
    "application/vnd.databricks.v1+cell": {
     "cellMetadata": {},
     "inputWidgets": {},
     "nuid": "54cc53a7-2138-4391-80b3-9d6322850ac6",
     "showTitle": false,
     "tableResultSettingsMap": {},
     "title": ""
    }
   },
   "source": [
    "### Renames\n"
   ]
  },
  {
   "cell_type": "code",
   "execution_count": 0,
   "metadata": {
    "application/vnd.databricks.v1+cell": {
     "cellMetadata": {
      "byteLimit": 2048000,
      "rowLimit": 10000
     },
     "inputWidgets": {},
     "nuid": "dd727cb8-645e-4d8c-89be-e4050a86165e",
     "showTitle": true,
     "tableResultSettingsMap": {},
     "title": "Renames can change object type"
    }
   },
   "outputs": [],
   "source": [
    "import os\n",
    "os.rename(\"test.py\", \"test.txt\")"
   ]
  },
  {
   "cell_type": "markdown",
   "metadata": {
    "application/vnd.databricks.v1+cell": {
     "cellMetadata": {},
     "inputWidgets": {},
     "nuid": "051a1de3-d799-4ad4-a9e8-4202d841340a",
     "showTitle": false,
     "tableResultSettingsMap": {},
     "title": ""
    }
   },
   "source": [
    "# Deletes"
   ]
  },
  {
   "cell_type": "code",
   "execution_count": 0,
   "metadata": {
    "application/vnd.databricks.v1+cell": {
     "cellMetadata": {
      "byteLimit": 2048000,
      "rowLimit": 10000
     },
     "inputWidgets": {},
     "nuid": "f81922ca-4bbd-4178-ad5d-96e642b0f9f7",
     "showTitle": true,
     "tableResultSettingsMap": {},
     "title": "Deletes notebooks and files"
    }
   },
   "outputs": [],
   "source": [
    "import os\n",
    "os.remove(\"test.py\")"
   ]
  }
 ],
 "metadata": {
  "application/vnd.databricks.v1+notebook": {
   "computePreferences": null,
   "dashboards": [],
   "environmentMetadata": {
    "base_environment": "",
    "client": "2"
   },
   "language": "python",
   "notebookMetadata": {
    "pythonIndentUnit": 2
   },
   "notebookName": "main_nb",
   "widgets": {}
  },
  "language_info": {
   "name": "python"
  }
 },
 "nbformat": 4,
 "nbformat_minor": 0
}
